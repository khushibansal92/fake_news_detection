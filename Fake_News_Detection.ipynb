{
  "cells": [
    {
      "cell_type": "code",
      "execution_count": null,
      "metadata": {
        "id": "IGzXBJqQykmh"
      },
      "outputs": [],
      "source": [
        "\n",
        "# IMPORTANT: RUN THIS CELL IN ORDER TO IMPORT YOUR KAGGLE DATA SOURCES\n",
        "# TO THE CORRECT LOCATION (/kaggle/input) IN YOUR NOTEBOOK,\n",
        "# THEN FEEL FREE TO DELETE THIS CELL.\n",
        "# NOTE: THIS NOTEBOOK ENVIRONMENT DIFFERS FROM KAGGLE'S PYTHON\n",
        "# ENVIRONMENT SO THERE MAY BE MISSING LIBRARIES USED BY YOUR\n",
        "# NOTEBOOK.\n",
        "\n",
        "import os\n",
        "import sys\n",
        "from tempfile import NamedTemporaryFile\n",
        "from urllib.request import urlopen\n",
        "from urllib.parse import unquote, urlparse\n",
        "from urllib.error import HTTPError\n",
        "from zipfile import ZipFile\n",
        "import tarfile\n",
        "import shutil\n",
        "\n",
        "CHUNK_SIZE = 40960\n",
        "DATA_SOURCE_MAPPING = 'fake-news-detection-datasets:https%3A%2F%2Fstorage.googleapis.com%2Fkaggle-data-sets%2F2712039%2F4679796%2Fbundle%2Farchive.zip%3FX-Goog-Algorithm%3DGOOG4-RSA-SHA256%26X-Goog-Credential%3Dgcp-kaggle-com%2540kaggle-161607.iam.gserviceaccount.com%252F20240821%252Fauto%252Fstorage%252Fgoog4_request%26X-Goog-Date%3D20240821T115455Z%26X-Goog-Expires%3D259200%26X-Goog-SignedHeaders%3Dhost%26X-Goog-Signature%3D55271f02062055594cd12c1a7a7b7c81e8edea11b1313e295b40e7af109a20f164ae8e27f7b9cae68c56c075c76e22cb4051a1654bad972928fa99ed252fddb99457a219b1d667d62443fa43efa5a9452eefbaf862a91bf746b7679b48a2fa7adc732b7956786055865fd554725eb0ad224ace7f1ab1432d2743838afca7f949f84638da9185beef377cfda4ed8afe54f3355c5f23180ab50506a57b8c59cdf24868c62716cf76fe26ed5d55959937ffd6b3f5b16b8600b27fa4cebd114dd4a26e51ea7aec403916b0f669fdedcaf7b9caa8b596817dd86fd65e934f385997d95e9223e3a6746ebc6f163c6313e6af85804a89fd0597c8f8d39fa6673bc0b946'\n",
        "\n",
        "KAGGLE_INPUT_PATH='/kaggle/input'\n",
        "KAGGLE_WORKING_PATH='/kaggle/working'\n",
        "KAGGLE_SYMLINK='kaggle'\n",
        "\n",
        "!umount /kaggle/input/ 2> /dev/null\n",
        "shutil.rmtree('/kaggle/input', ignore_errors=True)\n",
        "os.makedirs(KAGGLE_INPUT_PATH, 0o777, exist_ok=True)\n",
        "os.makedirs(KAGGLE_WORKING_PATH, 0o777, exist_ok=True)\n",
        "\n",
        "try:\n",
        "  os.symlink(KAGGLE_INPUT_PATH, os.path.join(\"..\", 'input'), target_is_directory=True)\n",
        "except FileExistsError:\n",
        "  pass\n",
        "try:\n",
        "  os.symlink(KAGGLE_WORKING_PATH, os.path.join(\"..\", 'working'), target_is_directory=True)\n",
        "except FileExistsError:\n",
        "  pass\n",
        "\n",
        "for data_source_mapping in DATA_SOURCE_MAPPING.split(','):\n",
        "    directory, download_url_encoded = data_source_mapping.split(':')\n",
        "    download_url = unquote(download_url_encoded)\n",
        "    filename = urlparse(download_url).path\n",
        "    destination_path = os.path.join(KAGGLE_INPUT_PATH, directory)\n",
        "    try:\n",
        "        with urlopen(download_url) as fileres, NamedTemporaryFile() as tfile:\n",
        "            total_length = fileres.headers['content-length']\n",
        "            print(f'Downloading {directory}, {total_length} bytes compressed')\n",
        "            dl = 0\n",
        "            data = fileres.read(CHUNK_SIZE)\n",
        "            while len(data) > 0:\n",
        "                dl += len(data)\n",
        "                tfile.write(data)\n",
        "                done = int(50 * dl / int(total_length))\n",
        "                sys.stdout.write(f\"\\r[{'=' * done}{' ' * (50-done)}] {dl} bytes downloaded\")\n",
        "                sys.stdout.flush()\n",
        "                data = fileres.read(CHUNK_SIZE)\n",
        "            if filename.endswith('.zip'):\n",
        "              with ZipFile(tfile) as zfile:\n",
        "                zfile.extractall(destination_path)\n",
        "            else:\n",
        "              with tarfile.open(tfile.name) as tarfile:\n",
        "                tarfile.extractall(destination_path)\n",
        "            print(f'\\nDownloaded and uncompressed: {directory}')\n",
        "    except HTTPError as e:\n",
        "        print(f'Failed to load (likely expired) {download_url} to path {destination_path}')\n",
        "        continue\n",
        "    except OSError as e:\n",
        "        print(f'Failed to load {download_url} to path {destination_path}')\n",
        "        continue\n",
        "\n",
        "print('Data source import complete.')\n"
      ]
    },
    {
      "cell_type": "code",
      "execution_count": null,
      "metadata": {
        "_cell_guid": "b1076dfc-b9ad-4769-8c92-a6c4dae69d19",
        "_uuid": "8f2839f25d086af736a60e9eeb907d3b93b6e0e5",
        "execution": {
          "iopub.execute_input": "2024-04-17T11:37:45.170589Z",
          "iopub.status.busy": "2024-04-17T11:37:45.170011Z",
          "iopub.status.idle": "2024-04-17T11:37:45.192461Z",
          "shell.execute_reply": "2024-04-17T11:37:45.191712Z",
          "shell.execute_reply.started": "2024-04-17T11:37:45.170544Z"
        },
        "id": "6wcXJYJoykmm",
        "trusted": true
      },
      "outputs": [],
      "source": [
        "\n",
        "\n",
        "import numpy as np # linear algebra\n",
        "import pandas as pd # data processing, CSV file I/O (e.g. pd.read_csv)\n",
        "import matplotlib.pyplot as plt\n",
        "import seaborn as sns\n",
        "from sklearn.model_selection import train_test_split\n",
        "import regex as re\n",
        "from nltk.corpus import stopwords\n",
        "from nltk.stem.porter import PorterStemmer\n",
        "from sklearn.feature_extraction.text import TfidfVectorizer\n",
        "from sklearn.svm import SVC\n",
        "\n",
        "\n",
        "import os\n",
        "for dirname, _, filenames in os.walk('/kaggle/input'):\n",
        "    for filename in filenames:\n",
        "        print(os.path.join(dirname, filename))\n"
      ]
    },
    {
      "cell_type": "code",
      "execution_count": null,
      "metadata": {
        "execution": {
          "iopub.execute_input": "2024-04-17T11:37:45.194615Z",
          "iopub.status.busy": "2024-04-17T11:37:45.194087Z",
          "iopub.status.idle": "2024-04-17T11:37:46.756588Z",
          "shell.execute_reply": "2024-04-17T11:37:46.755461Z",
          "shell.execute_reply.started": "2024-04-17T11:37:45.194588Z"
        },
        "id": "4i8O50_Wykmn",
        "trusted": true
      },
      "outputs": [],
      "source": [
        "real = pd.read_csv(\"/kaggle/input/fake-news-detection-datasets/News _dataset/True.csv\")\n",
        "fake = pd.read_csv(\"/kaggle/input/fake-news-detection-datasets/News _dataset/Fake.csv\")"
      ]
    },
    {
      "cell_type": "code",
      "execution_count": null,
      "metadata": {
        "execution": {
          "iopub.execute_input": "2024-04-17T11:37:46.758606Z",
          "iopub.status.busy": "2024-04-17T11:37:46.758188Z",
          "iopub.status.idle": "2024-04-17T11:37:46.8363Z",
          "shell.execute_reply": "2024-04-17T11:37:46.835153Z",
          "shell.execute_reply.started": "2024-04-17T11:37:46.758569Z"
        },
        "id": "Ry0bWKTbykmo",
        "trusted": true
      },
      "outputs": [],
      "source": [
        "real['target']=1\n",
        "fake['target']=0\n",
        "\n",
        "data = pd.concat([real , fake] , ignore_index=True)\n",
        "data = data.sample(frac=1, random_state=42).reset_index(drop=True)\n",
        "\n",
        "\n",
        "display(data.head())\n",
        "print('-'*40)\n",
        "\n",
        "print('shape' , data.shape)\n",
        "print('-'*40)\n",
        "\n",
        "display(data.dtypes )\n",
        "print('-'*40)\n",
        "\n",
        "display(data.isna().sum())\n"
      ]
    },
    {
      "cell_type": "code",
      "execution_count": null,
      "metadata": {
        "execution": {
          "iopub.execute_input": "2024-04-17T11:37:46.839156Z",
          "iopub.status.busy": "2024-04-17T11:37:46.838738Z",
          "iopub.status.idle": "2024-04-17T11:37:46.848873Z",
          "shell.execute_reply": "2024-04-17T11:37:46.847371Z",
          "shell.execute_reply.started": "2024-04-17T11:37:46.839127Z"
        },
        "id": "iZmOUFEqykmo",
        "trusted": true
      },
      "outputs": [],
      "source": [
        "data.target.value_counts(normalize=True)\n"
      ]
    },
    {
      "cell_type": "code",
      "execution_count": null,
      "metadata": {
        "execution": {
          "iopub.execute_input": "2024-04-17T11:37:46.85066Z",
          "iopub.status.busy": "2024-04-17T11:37:46.85026Z",
          "iopub.status.idle": "2024-04-17T11:37:47.044182Z",
          "shell.execute_reply": "2024-04-17T11:37:47.043019Z",
          "shell.execute_reply.started": "2024-04-17T11:37:46.85062Z"
        },
        "id": "MfjexgOOykmo",
        "trusted": true
      },
      "outputs": [],
      "source": [
        "import seaborn as sns  # Import de la bibliothèque Seaborn pour la visualisation de données\n",
        "\n",
        "def create_distribution(dataFile):\n",
        "    plt.figure(figsize=(5, 5))\n",
        "\n",
        "    return sns.countplot(x='target', data=dataFile,palette='Blues_d')\n",
        "create_distribution(data)\n",
        "\n"
      ]
    },
    {
      "cell_type": "code",
      "execution_count": null,
      "metadata": {
        "execution": {
          "iopub.execute_input": "2024-04-17T11:37:47.047173Z",
          "iopub.status.busy": "2024-04-17T11:37:47.046294Z",
          "iopub.status.idle": "2024-04-17T11:37:47.235212Z",
          "shell.execute_reply": "2024-04-17T11:37:47.23414Z",
          "shell.execute_reply.started": "2024-04-17T11:37:47.047132Z"
        },
        "id": "mFNu7fZQykmp",
        "trusted": true
      },
      "outputs": [],
      "source": [
        "\n",
        "sns.set_palette(\"crest\")\n",
        "sns.set_style(\"whitegrid\")\n",
        "\n",
        "plt.figure(figsize=(6, 6))\n",
        "data['subject'].value_counts().plot.pie(autopct='%1.1f%%')\n",
        "plt.title('Percentage of Our Subjects')\n",
        "plt.ylabel(None)\n",
        "plt.show()\n"
      ]
    },
    {
      "cell_type": "code",
      "execution_count": null,
      "metadata": {
        "execution": {
          "iopub.execute_input": "2024-04-17T11:37:47.236871Z",
          "iopub.status.busy": "2024-04-17T11:37:47.236527Z",
          "iopub.status.idle": "2024-04-17T11:37:47.255441Z",
          "shell.execute_reply": "2024-04-17T11:37:47.254147Z",
          "shell.execute_reply.started": "2024-04-17T11:37:47.236844Z"
        },
        "id": "ww3WAD5iykmp",
        "trusted": true
      },
      "outputs": [],
      "source": [
        "# def encode_subject(label):\n",
        "#     if label  in [\"politicsNews\",'politics' ,'Government News','left-news']:\n",
        "#         return \"politics\"\n",
        "#     elif label  in ['worldnews' ,'News']:\n",
        "#         return \"world news\"\n",
        "#     else:\n",
        "#         return \"US_News\"\n",
        "\n",
        "# data[\"subject\"]=data[\"subject\"].apply(encode_subject)\n",
        "data.subject=data.subject.replace({'politics':'PoliticsNews','politicsNews':'PoliticsNews'})\n"
      ]
    },
    {
      "cell_type": "code",
      "execution_count": null,
      "metadata": {
        "execution": {
          "iopub.execute_input": "2024-04-17T11:37:47.257755Z",
          "iopub.status.busy": "2024-04-17T11:37:47.257311Z",
          "iopub.status.idle": "2024-04-17T11:37:47.472266Z",
          "shell.execute_reply": "2024-04-17T11:37:47.471076Z",
          "shell.execute_reply.started": "2024-04-17T11:37:47.257717Z"
        },
        "id": "8R61hD7Kykmq",
        "trusted": true
      },
      "outputs": [],
      "source": [
        "sns.set_palette(\"crest\")\n",
        "sns.set_style(\"whitegrid\")\n",
        "\n",
        "plt.figure(figsize=(6, 6))\n",
        "data['subject'].value_counts().plot.pie(autopct='%1.1f%%')\n",
        "plt.title('Percentage of Our Subjects')\n",
        "plt.ylabel(None)\n",
        "plt.show()\n"
      ]
    },
    {
      "cell_type": "markdown",
      "metadata": {
        "id": "ueUMacP5ykmq"
      },
      "source": [
        "***\n",
        "\n",
        "#### As an estimate what subjects have more fake news **rs1** , and which of them have real news **rs2** ?\n"
      ]
    },
    {
      "cell_type": "code",
      "execution_count": null,
      "metadata": {
        "execution": {
          "iopub.execute_input": "2024-04-17T11:37:47.474821Z",
          "iopub.status.busy": "2024-04-17T11:37:47.474108Z",
          "iopub.status.idle": "2024-04-17T11:37:47.50115Z",
          "shell.execute_reply": "2024-04-17T11:37:47.500045Z",
          "shell.execute_reply.started": "2024-04-17T11:37:47.474775Z"
        },
        "id": "7Njyftvmykmq",
        "trusted": true
      },
      "outputs": [],
      "source": [
        "rs1 = data[data['target'] == 0].groupby(['subject'], as_index=False).size()\n",
        "rs1 = rs1.rename(columns={'size': 'count'}).sort_values(by='count', ascending=False)\n",
        "print(rs1)"
      ]
    },
    {
      "cell_type": "code",
      "execution_count": null,
      "metadata": {
        "execution": {
          "iopub.execute_input": "2024-04-17T11:37:47.50667Z",
          "iopub.status.busy": "2024-04-17T11:37:47.506141Z",
          "iopub.status.idle": "2024-04-17T11:37:47.525167Z",
          "shell.execute_reply": "2024-04-17T11:37:47.524068Z",
          "shell.execute_reply.started": "2024-04-17T11:37:47.506617Z"
        },
        "id": "mNZFHRyOykmq",
        "trusted": true
      },
      "outputs": [],
      "source": [
        "rs2 = data[data['target'] == 1].groupby(['subject'], as_index=False).size()\n",
        "rs2 = rs2.rename(columns={'size': 'count'}).sort_values(by='count', ascending=False)\n",
        "print(rs2)"
      ]
    },
    {
      "cell_type": "code",
      "execution_count": null,
      "metadata": {
        "execution": {
          "iopub.execute_input": "2024-04-17T11:37:47.527272Z",
          "iopub.status.busy": "2024-04-17T11:37:47.52654Z",
          "iopub.status.idle": "2024-04-17T11:37:48.158454Z",
          "shell.execute_reply": "2024-04-17T11:37:48.157192Z",
          "shell.execute_reply.started": "2024-04-17T11:37:47.527242Z"
        },
        "id": "Q7X3heguykmq",
        "trusted": true
      },
      "outputs": [],
      "source": [
        "import matplotlib.pyplot as plt\n",
        "import seaborn as sns\n",
        "\n",
        "fig, axs = plt.subplots(1, 2, figsize=(15, 6))\n",
        "\n",
        "# Fake news distribution\n",
        "sns.barplot(ax=axs[0], x='count', y='subject', data=rs1, palette='viridis')\n",
        "axs[0].set_title('Distribution of Fake News')\n",
        "axs[0].set_xlabel('Count')\n",
        "axs[0].set_ylabel('Subject')\n",
        "\n",
        "# Real news distribution\n",
        "sns.barplot(ax=axs[1], x='count', y='subject', data=rs2, palette='viridis')\n",
        "axs[1].set_title('Distribution of Real News')\n",
        "axs[1].set_xlabel('Count')\n",
        "axs[1].set_ylabel('Subject')\n",
        "\n",
        "# Adjust layout\n",
        "plt.tight_layout()\n",
        "plt.show()\n"
      ]
    },
    {
      "cell_type": "code",
      "execution_count": null,
      "metadata": {
        "execution": {
          "iopub.execute_input": "2024-04-17T11:37:48.159893Z",
          "iopub.status.busy": "2024-04-17T11:37:48.159562Z",
          "iopub.status.idle": "2024-04-17T11:37:52.469116Z",
          "shell.execute_reply": "2024-04-17T11:37:52.468242Z",
          "shell.execute_reply.started": "2024-04-17T11:37:48.159865Z"
        },
        "id": "wE-C-hKoykmq",
        "trusted": true
      },
      "outputs": [],
      "source": [
        "data['date'] = pd.to_datetime(data['date'],format='mixed', dayfirst=True,errors='coerce')\n",
        "\n",
        "data['Year'] = data['date'].dt.year\n",
        "data['Month'] = data['date'].dt.month_name()"
      ]
    },
    {
      "cell_type": "code",
      "execution_count": null,
      "metadata": {
        "execution": {
          "iopub.execute_input": "2024-04-17T11:37:52.470928Z",
          "iopub.status.busy": "2024-04-17T11:37:52.470594Z",
          "iopub.status.idle": "2024-04-17T11:37:52.748929Z",
          "shell.execute_reply": "2024-04-17T11:37:52.747849Z",
          "shell.execute_reply.started": "2024-04-17T11:37:52.470898Z"
        },
        "id": "WtUzxrBxykmr",
        "trusted": true
      },
      "outputs": [],
      "source": [
        "plt.figure(figsize=(12, 6))\n",
        "sns.countplot(x='Year', data=data, order=data['Year'].value_counts().index, palette='crest')\n",
        "plt.title('Distribution of Years')\n",
        "plt.xlabel('Year')\n",
        "plt.ylabel('Count')\n",
        "plt.xticks(rotation=0)\n",
        "plt.show()"
      ]
    },
    {
      "cell_type": "code",
      "execution_count": null,
      "metadata": {
        "execution": {
          "iopub.execute_input": "2024-04-17T11:37:52.750935Z",
          "iopub.status.busy": "2024-04-17T11:37:52.750553Z",
          "iopub.status.idle": "2024-04-17T11:37:53.152032Z",
          "shell.execute_reply": "2024-04-17T11:37:53.151179Z",
          "shell.execute_reply.started": "2024-04-17T11:37:52.750905Z"
        },
        "id": "rE47l5F4ykmr",
        "trusted": true
      },
      "outputs": [],
      "source": [
        "plt.figure(figsize=(12, 6))\n",
        "sns.countplot(x='Month', data=data, order=data['Month'].value_counts().index, palette='crest')\n",
        "plt.title('Distribution of Months')\n",
        "plt.xlabel('Month')\n",
        "plt.ylabel('Count')\n",
        "plt.xticks(rotation=45)\n",
        "plt.show()"
      ]
    },
    {
      "cell_type": "code",
      "execution_count": null,
      "metadata": {
        "execution": {
          "iopub.execute_input": "2024-04-17T11:37:53.154181Z",
          "iopub.status.busy": "2024-04-17T11:37:53.153026Z",
          "iopub.status.idle": "2024-04-17T11:37:53.507779Z",
          "shell.execute_reply": "2024-04-17T11:37:53.506704Z",
          "shell.execute_reply.started": "2024-04-17T11:37:53.154138Z"
        },
        "id": "BlpTu1dRykmr",
        "trusted": true
      },
      "outputs": [],
      "source": [
        "plt.figure(figsize=(12, 6))\n",
        "sns.countplot(x='subject', data=data , order=data['subject'].value_counts().index, palette='crest')\n",
        "plt.title('Distribution of Subject')\n",
        "plt.xlabel('Subject')\n",
        "plt.ylabel('Count')\n",
        "plt.xticks(rotation=0)\n",
        "plt.show()"
      ]
    },
    {
      "cell_type": "code",
      "execution_count": null,
      "metadata": {
        "execution": {
          "iopub.execute_input": "2024-04-17T11:37:53.509215Z",
          "iopub.status.busy": "2024-04-17T11:37:53.508893Z",
          "iopub.status.idle": "2024-04-17T11:37:59.547455Z",
          "shell.execute_reply": "2024-04-17T11:37:59.546482Z",
          "shell.execute_reply.started": "2024-04-17T11:37:53.509189Z"
        },
        "id": "0FwE82vWykmr",
        "trusted": true
      },
      "outputs": [],
      "source": [
        "import nltk\n",
        "df = pd.DataFrame()\n",
        "def count_words(column):\n",
        "    tokenizer = nltk.RegexpTokenizer(r\"\\w+\")\n",
        "    new_words = tokenizer.tokenize(column)\n",
        "    return len(new_words)\n",
        "\n",
        "df[\"n_words_in_title\"]=data[\"title\"].apply(count_words)\n",
        "df[\"n_words_in_text\"]=data[\"text\"].apply(count_words)\n",
        "df['target']=data['target']"
      ]
    },
    {
      "cell_type": "code",
      "execution_count": null,
      "metadata": {
        "execution": {
          "iopub.execute_input": "2024-04-17T11:37:59.5493Z",
          "iopub.status.busy": "2024-04-17T11:37:59.54863Z",
          "iopub.status.idle": "2024-04-17T11:37:59.821864Z",
          "shell.execute_reply": "2024-04-17T11:37:59.82086Z",
          "shell.execute_reply.started": "2024-04-17T11:37:59.549271Z"
        },
        "id": "O4ohM4d7ykmr",
        "trusted": true
      },
      "outputs": [],
      "source": [
        "fig=plt.figure(figsize=[6,5])\n",
        "# fig.patch.set_alpha(0.7)\n",
        "\n",
        "plt.title(\"Number of words in the title.\",size=18)\n",
        "sns.boxplot(data=df, x=\"target\",y=\"n_words_in_title\",showfliers=False,width=0.4,color=\"#0047AB\")"
      ]
    },
    {
      "cell_type": "code",
      "execution_count": null,
      "metadata": {
        "execution": {
          "iopub.execute_input": "2024-04-17T11:37:59.823286Z",
          "iopub.status.busy": "2024-04-17T11:37:59.822996Z",
          "iopub.status.idle": "2024-04-17T11:38:00.230529Z",
          "shell.execute_reply": "2024-04-17T11:38:00.229436Z",
          "shell.execute_reply.started": "2024-04-17T11:37:59.82326Z"
        },
        "id": "Dt9RLWAIykmr",
        "trusted": true
      },
      "outputs": [],
      "source": [
        "fig=plt.figure(figsize=[6,5])\n",
        "# fig.patch.set_alpha(0.7)\n",
        "\n",
        "plt.title(\"Number of words in the text.\",size=18)\n",
        "sns.boxplot(data=df, x=\"target\",y=\"n_words_in_text\",showfliers=False,width=0.4,color=\"#0047AB\")"
      ]
    },
    {
      "cell_type": "code",
      "execution_count": null,
      "metadata": {
        "execution": {
          "iopub.execute_input": "2024-04-17T11:38:00.232101Z",
          "iopub.status.busy": "2024-04-17T11:38:00.231751Z",
          "iopub.status.idle": "2024-04-17T11:38:00.265199Z",
          "shell.execute_reply": "2024-04-17T11:38:00.264359Z",
          "shell.execute_reply.started": "2024-04-17T11:38:00.232072Z"
        },
        "id": "9mXj68lkykms",
        "trusted": true
      },
      "outputs": [],
      "source": [
        "data['final'] =  data['title'] + \" \" + data['subject']\n"
      ]
    },
    {
      "cell_type": "code",
      "execution_count": null,
      "metadata": {
        "execution": {
          "iopub.execute_input": "2024-04-17T11:38:00.267089Z",
          "iopub.status.busy": "2024-04-17T11:38:00.266203Z",
          "iopub.status.idle": "2024-04-17T11:38:00.275122Z",
          "shell.execute_reply": "2024-04-17T11:38:00.274115Z",
          "shell.execute_reply.started": "2024-04-17T11:38:00.26705Z"
        },
        "id": "ydYxKpHqykms",
        "trusted": true
      },
      "outputs": [],
      "source": [
        "import re  # Import the regular expressions module\n",
        "import string  # Import the string module containing punctuation\n",
        "\n",
        "def wordopt(text):\n",
        "    # Convert the entire text to lowercase\n",
        "    text = text.lower()\n",
        "\n",
        "    # Remove text within square brackets, including the brackets\n",
        "    text = re.sub('\\[.*?\\]', '', text)\n",
        "\n",
        "    # Replace all non-alphabetic characters with a space\n",
        "    text = re.sub(\"\\\\W\", \" \", text)\n",
        "\n",
        "    # Remove URLs\n",
        "    text = re.sub('https?://\\S+|www\\.\\S+', '', text)\n",
        "\n",
        "    # Remove HTML tags\n",
        "    text = re.sub('<.*?>', '', text)\n",
        "\n",
        "    # Remove punctuation\n",
        "    text = re.sub('[%s]' % re.escape(string.punctuation), '', text)\n",
        "\n",
        "    # Remove words containing digits\n",
        "    text = re.sub('\\w*\\d\\w*', '', text)\n",
        "\n",
        "    return text  # Return the preprocessed text\n"
      ]
    },
    {
      "cell_type": "code",
      "execution_count": null,
      "metadata": {
        "execution": {
          "iopub.execute_input": "2024-04-17T11:38:00.276566Z",
          "iopub.status.busy": "2024-04-17T11:38:00.276267Z",
          "iopub.status.idle": "2024-04-17T11:38:01.59582Z",
          "shell.execute_reply": "2024-04-17T11:38:01.594682Z",
          "shell.execute_reply.started": "2024-04-17T11:38:00.27654Z"
        },
        "id": "9PeRuyKUykms",
        "trusted": true
      },
      "outputs": [],
      "source": [
        "data['final'] = data['final'].apply(wordopt)\n",
        "data.final"
      ]
    },
    {
      "cell_type": "code",
      "execution_count": null,
      "metadata": {
        "execution": {
          "iopub.execute_input": "2024-04-17T11:38:01.597377Z",
          "iopub.status.busy": "2024-04-17T11:38:01.597062Z",
          "iopub.status.idle": "2024-04-17T11:38:02.365545Z",
          "shell.execute_reply": "2024-04-17T11:38:02.364478Z",
          "shell.execute_reply.started": "2024-04-17T11:38:01.597352Z"
        },
        "id": "b7ikfbYHykms",
        "trusted": true
      },
      "outputs": [],
      "source": [
        "from sklearn.feature_extraction.text import TfidfVectorizer\n",
        "from sklearn.feature_extraction.text import CountVectorizer\n",
        "\n",
        "X_train,X_test,y_train,y_test = train_test_split(data['final'],data['target'],test_size=0.3)\n",
        "# cv = CountVectorizer(min_df=0,max_df=1,ngram_range=(1,2))\n",
        "\n",
        "# cv_train = cv.fit_transform(X_train)\n",
        "# cv_test = cv.transform(X_test)\n",
        "vectorization = TfidfVectorizer()\n",
        "cv_train = vectorization.fit_transform(X_train)\n",
        "cv_test = vectorization.transform(X_test)\n",
        "\n",
        "print('Train shape: ',cv_train.shape)\n",
        "print('Test shape: ',cv_test.shape)"
      ]
    },
    {
      "cell_type": "code",
      "execution_count": null,
      "metadata": {
        "execution": {
          "iopub.execute_input": "2024-04-17T11:38:02.367742Z",
          "iopub.status.busy": "2024-04-17T11:38:02.367422Z",
          "iopub.status.idle": "2024-04-17T11:38:02.389917Z",
          "shell.execute_reply": "2024-04-17T11:38:02.388828Z",
          "shell.execute_reply.started": "2024-04-17T11:38:02.367714Z"
        },
        "id": "uXsJoiwqykms",
        "trusted": true
      },
      "outputs": [],
      "source": [
        "from sklearn.naive_bayes import MultinomialNB\n",
        "from sklearn.metrics import accuracy_score\n",
        "\n",
        "\n",
        "nb = MultinomialNB()\n",
        "nb.fit(cv_train, y_train)\n",
        "pred_nb = nb.predict(cv_test)\n",
        "score = accuracy_score(y_test, pred_nb)\n",
        "print(\"Accuracy Score: \",score)\n"
      ]
    },
    {
      "cell_type": "markdown",
      "metadata": {
        "id": "T6BKM3Zzykms"
      },
      "source": [
        "***"
      ]
    },
    {
      "cell_type": "code",
      "execution_count": null,
      "metadata": {
        "execution": {
          "iopub.execute_input": "2024-04-17T11:38:02.392054Z",
          "iopub.status.busy": "2024-04-17T11:38:02.391279Z",
          "iopub.status.idle": "2024-04-17T11:38:28.142104Z",
          "shell.execute_reply": "2024-04-17T11:38:28.141033Z",
          "shell.execute_reply.started": "2024-04-17T11:38:02.392018Z"
        },
        "id": "K4igH2yEykms",
        "trusted": true
      },
      "outputs": [],
      "source": [
        "# data['final2'] =  data['text'] + \" \" + data['title'] + \" \" + data['subject']\n",
        "data['final2'] =  data['text'] + \" \" + data['title'] + \" \" + data['subject']\n",
        "\n",
        "data['final2'] = data['final2'].apply(wordopt)\n",
        "data['final2'].head(3)\n"
      ]
    },
    {
      "cell_type": "code",
      "execution_count": null,
      "metadata": {
        "execution": {
          "iopub.execute_input": "2024-04-17T11:38:28.143476Z",
          "iopub.status.busy": "2024-04-17T11:38:28.143192Z",
          "iopub.status.idle": "2024-04-17T11:38:43.299303Z",
          "shell.execute_reply": "2024-04-17T11:38:43.298045Z",
          "shell.execute_reply.started": "2024-04-17T11:38:28.143451Z"
        },
        "id": "ZncAN4eyykms",
        "trusted": true
      },
      "outputs": [],
      "source": [
        "X_train,X_test,y_train,y_test = train_test_split(data['final2'],data['target'],test_size=0.2)\n",
        "# cv = CountVectorizer(min_df=0,max_df=1,ngram_range=(1,2))\n",
        "vectorization = TfidfVectorizer()\n",
        "\n",
        "cv_train = vectorization.fit_transform(X_train)\n",
        "cv_test = vectorization.transform(X_test)\n",
        "\n",
        "print('Train shape: ',cv_train.shape)\n",
        "print('Test shape: ',cv_test.shape)\n",
        "\n",
        "\n",
        "\n",
        "nb = MultinomialNB()\n",
        "nb.fit(cv_train, y_train)\n",
        "\n",
        "pred_nb = nb.predict(cv_test)\n",
        "score = accuracy_score(y_test, pred_nb)\n",
        "print(\"Accuracy Score: \",score)"
      ]
    },
    {
      "cell_type": "code",
      "execution_count": null,
      "metadata": {
        "id": "T26nMbd8ykmw"
      },
      "outputs": [],
      "source": []
    },
    {
      "cell_type": "code",
      "execution_count": null,
      "metadata": {
        "id": "CqyJEkDPykmx"
      },
      "outputs": [],
      "source": []
    },
    {
      "cell_type": "code",
      "execution_count": null,
      "metadata": {
        "execution": {
          "iopub.execute_input": "2024-04-17T11:52:49.120882Z",
          "iopub.status.busy": "2024-04-17T11:52:49.120097Z",
          "iopub.status.idle": "2024-04-17T11:55:18.253889Z",
          "shell.execute_reply": "2024-04-17T11:55:18.252727Z",
          "shell.execute_reply.started": "2024-04-17T11:52:49.120845Z"
        },
        "id": "ADIqG_YBykmx",
        "trusted": true
      },
      "outputs": [],
      "source": [
        "from sklearn.linear_model import LogisticRegression\n",
        "from sklearn.tree import DecisionTreeClassifier\n",
        "from sklearn.ensemble import RandomForestClassifier\n",
        "from sklearn.pipeline import Pipeline\n",
        "from sklearn.metrics import accuracy_score\n",
        "listt=[]\n",
        "# Splitting the data\n",
        "X_train, X_test, y_train, y_test = train_test_split(data['final2'], data['target'], test_size=0.2)\n",
        "\n",
        "# Vectorize the data\n",
        "vectorizer = TfidfVectorizer()\n",
        "X_train_vec = vectorizer.fit_transform(X_train)\n",
        "X_test_vec = vectorizer.transform(X_test)\n",
        "\n",
        "# Creating a combined pipeline with model training\n",
        "pipeline_combined = Pipeline([\n",
        "    ('model', LogisticRegression())  # Default model, will be replaced later\n",
        "])\n",
        "\n",
        "# Fit and evaluate each model in the combined pipeline\n",
        "for model_name, model in [('logistic', LogisticRegression()), ('decision_tree', DecisionTreeClassifier()), ('random_forest', RandomForestClassifier())]:\n",
        "    pipeline_combined.set_params(model=model)  # Set the current model in the pipeline\n",
        "    pipeline_combined.fit(X_train_vec, y_train)  # Fit the pipeline with vectorized data\n",
        "    y_pred = pipeline_combined.predict(X_test_vec)  # Predict with the current model using vectorized test data\n",
        "    accuracy = accuracy_score(y_test, y_pred)\n",
        "    listt.append(accuracy)\n",
        "    print(f\"{model_name.capitalize().replace('_', ' ')} Accuracy:\", accuracy)\n"
      ]
    },
    {
      "cell_type": "code",
      "execution_count": null,
      "metadata": {
        "execution": {
          "iopub.execute_input": "2024-04-17T11:41:17.351518Z",
          "iopub.status.busy": "2024-04-17T11:41:17.35109Z",
          "iopub.status.idle": "2024-04-17T11:41:17.626992Z",
          "shell.execute_reply": "2024-04-17T11:41:17.623039Z",
          "shell.execute_reply.started": "2024-04-17T11:41:17.351479Z"
        },
        "id": "KdmSqe3xykmx",
        "trusted": true
      },
      "outputs": [],
      "source": [
        "import matplotlib.pyplot as plt\n",
        "import seaborn as sns\n",
        "\n",
        "model_names = ['Logistic Regression', 'Decision Tree', 'Random Forest']\n",
        "accuracies = listt\n",
        "\n",
        "# Create a bar chart\n",
        "plt.figure(figsize=(8, 5))\n",
        "sns.barplot(x=model_names, y=accuracies)\n",
        "plt.xlabel('Model')\n",
        "plt.ylabel('Accuracy')\n",
        "plt.title('Accuracy Comparison of Different Models')\n",
        "plt.ylim(0, 1)\n",
        "plt.show()\n"
      ]
    }
  ],
  "metadata": {
    "colab": {
      "name": "Fake_News_Detection",
      "provenance": []
    },
    "kaggle": {
      "accelerator": "none",
      "dataSources": [
        {
          "datasetId": 2712039,
          "sourceId": 4679796,
          "sourceType": "datasetVersion"
        }
      ],
      "dockerImageVersionId": 30673,
      "isGpuEnabled": false,
      "isInternetEnabled": true,
      "language": "python",
      "sourceType": "notebook"
    },
    "kernelspec": {
      "display_name": "Python 3",
      "language": "python",
      "name": "python3"
    },
    "language_info": {
      "codemirror_mode": {
        "name": "ipython",
        "version": 3
      },
      "file_extension": ".py",
      "mimetype": "text/x-python",
      "name": "python",
      "nbconvert_exporter": "python",
      "pygments_lexer": "ipython3",
      "version": "3.10.13"
    }
  },
  "nbformat": 4,
  "nbformat_minor": 0
}
